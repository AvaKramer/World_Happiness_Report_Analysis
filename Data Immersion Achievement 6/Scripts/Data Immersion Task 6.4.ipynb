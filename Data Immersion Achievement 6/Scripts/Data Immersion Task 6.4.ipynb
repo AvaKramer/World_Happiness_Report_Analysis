{
 "cells": [
  {
   "cell_type": "markdown",
   "id": "dbd581c6",
   "metadata": {},
   "source": [
    "# Data Immersion Task 6.4"
   ]
  },
  {
   "cell_type": "markdown",
   "id": "8cb1f9ac",
   "metadata": {},
   "source": [
    "# Contents"
   ]
  },
  {
   "cell_type": "markdown",
   "id": "c2d512fe",
   "metadata": {},
   "source": [
    "1. Import libraries\n",
    "2. Data cleaning\n",
    "3. Data prep for regression analysis\n",
    "4. Regression analysis"
   ]
  },
  {
   "cell_type": "markdown",
   "id": "bfb513ed",
   "metadata": {},
   "source": [
    "# 1.  Import data libraries"
   ]
  },
  {
   "cell_type": "code",
   "execution_count": 1,
   "id": "99fbd557",
   "metadata": {},
   "outputs": [],
   "source": [
    "#Import data libraries\n",
    "\n",
    "import pandas as pd\n",
    "import numpy as np\n",
    "import os\n",
    "import seaborn as sns\n",
    "import matplotlib\n",
    "import matplotlib.pyplot as plt\n",
    "import sklearn\n",
    "from sklearn.model_selection import train_test_split\n",
    "from sklearn.linear_model import LinearRegression\n",
    "from sklearn.metrics import mean_squared_error, r2_score"
   ]
  },
  {
   "cell_type": "code",
   "execution_count": 2,
   "id": "06aca62f",
   "metadata": {},
   "outputs": [],
   "source": [
    "#Make sure matplotlib visuals will appear in notebook\n",
    "\n",
    "%matplotlib inline"
   ]
  },
  {
   "cell_type": "code",
   "execution_count": 3,
   "id": "fb3d3123",
   "metadata": {},
   "outputs": [],
   "source": [
    "#Define path\n",
    "\n",
    "path = r'C:\\Users\\avamk\\Happiness Report Analysis'"
   ]
  },
  {
   "cell_type": "code",
   "execution_count": 4,
   "id": "f8dd689a",
   "metadata": {},
   "outputs": [],
   "source": [
    "#Import World Happiness Report data for 2019\n",
    "\n",
    "df_2019 = pd.read_csv(os.path.join(path, '02 Data', 'Prepared Data', 'WHR_2019_checked.csv'))"
   ]
  },
  {
   "cell_type": "code",
   "execution_count": 5,
   "id": "22a5236e",
   "metadata": {},
   "outputs": [],
   "source": [
    "#Create a subset of the 2019 data to include only 6 key variables and the Happiness Score\n",
    "\n",
    "df_19sub = df_2019[['Happiness Score', 'Economy (GDP per Capita)', 'Social Support', 'Health (Life Expectancy)', 'Freedom', 'Perception of Corruption', 'Generosity']]"
   ]
  },
  {
   "cell_type": "markdown",
   "id": "899b89e3",
   "metadata": {},
   "source": [
    "# 2. Data cleaning"
   ]
  },
  {
   "cell_type": "code",
   "execution_count": 6,
   "id": "68d3140f",
   "metadata": {},
   "outputs": [
    {
     "data": {
      "text/plain": [
       "Happiness Score             0\n",
       "Economy (GDP per Capita)    0\n",
       "Social Support              0\n",
       "Health (Life Expectancy)    0\n",
       "Freedom                     0\n",
       "Perception of Corruption    0\n",
       "Generosity                  0\n",
       "dtype: int64"
      ]
     },
     "execution_count": 6,
     "metadata": {},
     "output_type": "execute_result"
    }
   ],
   "source": [
    "#Check for missing values\n",
    "\n",
    "df_19sub.isnull().sum()"
   ]
  },
  {
   "cell_type": "markdown",
   "id": "6340fef8",
   "metadata": {},
   "source": [
    "No missing values were found."
   ]
  },
  {
   "cell_type": "code",
   "execution_count": 7,
   "id": "cc4e8804",
   "metadata": {},
   "outputs": [],
   "source": [
    "#Check for duplicates\n",
    "\n",
    "df_dups_19 = df_19sub[df_19sub.duplicated()]"
   ]
  },
  {
   "cell_type": "code",
   "execution_count": 8,
   "id": "25d71b76",
   "metadata": {},
   "outputs": [
    {
     "data": {
      "text/html": [
       "<div>\n",
       "<style scoped>\n",
       "    .dataframe tbody tr th:only-of-type {\n",
       "        vertical-align: middle;\n",
       "    }\n",
       "\n",
       "    .dataframe tbody tr th {\n",
       "        vertical-align: top;\n",
       "    }\n",
       "\n",
       "    .dataframe thead th {\n",
       "        text-align: right;\n",
       "    }\n",
       "</style>\n",
       "<table border=\"1\" class=\"dataframe\">\n",
       "  <thead>\n",
       "    <tr style=\"text-align: right;\">\n",
       "      <th></th>\n",
       "      <th>Happiness Score</th>\n",
       "      <th>Economy (GDP per Capita)</th>\n",
       "      <th>Social Support</th>\n",
       "      <th>Health (Life Expectancy)</th>\n",
       "      <th>Freedom</th>\n",
       "      <th>Perception of Corruption</th>\n",
       "      <th>Generosity</th>\n",
       "    </tr>\n",
       "  </thead>\n",
       "  <tbody>\n",
       "  </tbody>\n",
       "</table>\n",
       "</div>"
      ],
      "text/plain": [
       "Empty DataFrame\n",
       "Columns: [Happiness Score, Economy (GDP per Capita), Social Support, Health (Life Expectancy), Freedom, Perception of Corruption, Generosity]\n",
       "Index: []"
      ]
     },
     "execution_count": 8,
     "metadata": {},
     "output_type": "execute_result"
    }
   ],
   "source": [
    "df_dups_19"
   ]
  },
  {
   "cell_type": "markdown",
   "id": "9b1dc497",
   "metadata": {},
   "source": [
    "No duplicates found."
   ]
  },
  {
   "cell_type": "markdown",
   "id": "d02197c5",
   "metadata": {},
   "source": [
    "# 3. Data prep for regression analysis"
   ]
  },
  {
   "cell_type": "markdown",
   "id": "990aa14c",
   "metadata": {},
   "source": [
    "Hypothesis: If a country has a stable economy, strong social support, and long life expectancy, they will have a higher Happiness Score. I chose to focus on Economy (GDP per Capita because it had the strongest correlation with Happiness Score every year (2015-2019). I will be using the 2019 dataset because it is the most recent."
   ]
  },
  {
   "cell_type": "code",
   "execution_count": 9,
   "id": "39a617f5",
   "metadata": {},
   "outputs": [
    {
     "data": {
      "text/plain": [
       "<Axes: xlabel='Economy (GDP per Capita)', ylabel='Happiness Score'>"
      ]
     },
     "execution_count": 9,
     "metadata": {},
     "output_type": "execute_result"
    },
    {
     "data": {
      "image/png": "[encoded data removed]",
      "text/plain": [
       "<Figure size 640x480 with 1 Axes>"
      ]
     },
     "metadata": {},
     "output_type": "display_data"
    }
   ],
   "source": [
    "#Create a scatterplot to revisit variables from hypothesis. \n",
    "\n",
    "sns.scatterplot(x = 'Economy (GDP per Capita)', y = 'Happiness Score',data = df_19sub)"
   ]
  },
  {
   "cell_type": "code",
   "execution_count": 10,
   "id": "125e5b0d",
   "metadata": {},
   "outputs": [],
   "source": [
    "#Reshape the variables we need into numpy arrays and put them into separate objects\n",
    "\n",
    "X = df_19sub['Economy (GDP per Capita)'].values.reshape(-1,1)\n",
    "y = df_19sub['Happiness Score'].values.reshape(-1,1)"
   ]
  },
  {
   "cell_type": "code",
   "execution_count": 11,
   "id": "8a0093d0",
   "metadata": {},
   "outputs": [
    {
     "data": {
      "text/plain": [
       "array([[1.34],\n",
       "       [1.38],\n",
       "       [1.49],\n",
       "       [1.38],\n",
       "       [1.4 ],\n",
       "       [1.45],\n",
       "       [1.39],\n",
       "       [1.3 ],\n",
       "       [1.37],\n",
       "       [1.38],\n",
       "       [1.37],\n",
       "       [1.03],\n",
       "       [1.28],\n",
       "       [1.61],\n",
       "       [1.33],\n",
       "       [1.5 ],\n",
       "       [1.37],\n",
       "       [1.36],\n",
       "       [1.43],\n",
       "       [1.27],\n",
       "       [1.5 ],\n",
       "       [1.3 ],\n",
       "       [1.07],\n",
       "       [1.32],\n",
       "       [1.37],\n",
       "       [1.16],\n",
       "       [0.8 ],\n",
       "       [1.4 ],\n",
       "       [1.68],\n",
       "       [1.29],\n",
       "       [1.15],\n",
       "       [1.  ],\n",
       "       [1.12],\n",
       "       [1.57],\n",
       "       [0.79],\n",
       "       [1.29],\n",
       "       [1.36],\n",
       "       [1.25],\n",
       "       [1.23],\n",
       "       [1.21],\n",
       "       [0.75],\n",
       "       [1.24],\n",
       "       [0.99],\n",
       "       [1.26],\n",
       "       [0.69],\n",
       "       [0.88],\n",
       "       [1.09],\n",
       "       [1.16],\n",
       "       [1.26],\n",
       "       [0.91],\n",
       "       [1.5 ],\n",
       "       [1.05],\n",
       "       [1.19],\n",
       "       [1.3 ],\n",
       "       [1.24],\n",
       "       [0.83],\n",
       "       [1.12],\n",
       "       [1.33],\n",
       "       [0.64],\n",
       "       [1.17],\n",
       "       [0.78],\n",
       "       [1.2 ],\n",
       "       [0.86],\n",
       "       [1.26],\n",
       "       [0.96],\n",
       "       [1.22],\n",
       "       [0.68],\n",
       "       [1.18],\n",
       "       [0.81],\n",
       "       [1.  ],\n",
       "       [0.69],\n",
       "       [1.04],\n",
       "       [1.05],\n",
       "       [0.49],\n",
       "       [1.16],\n",
       "       [1.44],\n",
       "       [1.02],\n",
       "       [0.95],\n",
       "       [1.18],\n",
       "       [1.22],\n",
       "       [1.07],\n",
       "       [1.18],\n",
       "       [0.95],\n",
       "       [0.98],\n",
       "       [0.7 ],\n",
       "       [0.55],\n",
       "       [1.05],\n",
       "       [1.  ],\n",
       "       [0.8 ],\n",
       "       [1.04],\n",
       "       [0.99],\n",
       "       [0.93],\n",
       "       [1.03],\n",
       "       [0.74],\n",
       "       [0.81],\n",
       "       [0.55],\n",
       "       [1.09],\n",
       "       [0.61],\n",
       "       [0.57],\n",
       "       [0.45],\n",
       "       [0.84],\n",
       "       [0.39],\n",
       "       [0.67],\n",
       "       [1.06],\n",
       "       [0.76],\n",
       "       [0.96],\n",
       "       [0.95],\n",
       "       [0.96],\n",
       "       [0.57],\n",
       "       [0.66],\n",
       "       [0.45],\n",
       "       [0.  ],\n",
       "       [0.88],\n",
       "       [0.14],\n",
       "       [0.33],\n",
       "       [0.85],\n",
       "       [1.1 ],\n",
       "       [0.38],\n",
       "       [0.89],\n",
       "       [0.31],\n",
       "       [0.51],\n",
       "       [0.57],\n",
       "       [0.2 ],\n",
       "       [0.92],\n",
       "       [0.56],\n",
       "       [1.04],\n",
       "       [0.09],\n",
       "       [0.39],\n",
       "       [0.27],\n",
       "       [0.95],\n",
       "       [0.71],\n",
       "       [0.35],\n",
       "       [0.82],\n",
       "       [0.34],\n",
       "       [0.81],\n",
       "       [0.33],\n",
       "       [0.91],\n",
       "       [0.58],\n",
       "       [0.28],\n",
       "       [0.76],\n",
       "       [0.07],\n",
       "       [0.27],\n",
       "       [0.27],\n",
       "       [0.49],\n",
       "       [0.05],\n",
       "       [0.37],\n",
       "       [0.32],\n",
       "       [1.04],\n",
       "       [0.62],\n",
       "       [0.19],\n",
       "       [0.29],\n",
       "       [0.36],\n",
       "       [0.48],\n",
       "       [0.35],\n",
       "       [0.03],\n",
       "       [0.31]])"
      ]
     },
     "execution_count": 11,
     "metadata": {},
     "output_type": "execute_result"
    }
   ],
   "source": [
    "X"
   ]
  },
  {
   "cell_type": "code",
   "execution_count": 12,
   "id": "1cd88843",
   "metadata": {},
   "outputs": [
    {
     "data": {
      "text/plain": [
       "array([[7.77],\n",
       "       [7.6 ],\n",
       "       [7.55],\n",
       "       [7.49],\n",
       "       [7.49],\n",
       "       [7.48],\n",
       "       [7.34],\n",
       "       [7.31],\n",
       "       [7.28],\n",
       "       [7.25],\n",
       "       [7.23],\n",
       "       [7.17],\n",
       "       [7.14],\n",
       "       [7.09],\n",
       "       [7.05],\n",
       "       [7.02],\n",
       "       [6.99],\n",
       "       [6.92],\n",
       "       [6.89],\n",
       "       [6.85],\n",
       "       [6.83],\n",
       "       [6.73],\n",
       "       [6.6 ],\n",
       "       [6.59],\n",
       "       [6.45],\n",
       "       [6.44],\n",
       "       [6.44],\n",
       "       [6.38],\n",
       "       [6.37],\n",
       "       [6.35],\n",
       "       [6.32],\n",
       "       [6.3 ],\n",
       "       [6.29],\n",
       "       [6.26],\n",
       "       [6.25],\n",
       "       [6.22],\n",
       "       [6.2 ],\n",
       "       [6.2 ],\n",
       "       [6.19],\n",
       "       [6.18],\n",
       "       [6.17],\n",
       "       [6.15],\n",
       "       [6.13],\n",
       "       [6.12],\n",
       "       [6.11],\n",
       "       [6.1 ],\n",
       "       [6.09],\n",
       "       [6.07],\n",
       "       [6.05],\n",
       "       [6.03],\n",
       "       [6.02],\n",
       "       [6.01],\n",
       "       [5.94],\n",
       "       [5.9 ],\n",
       "       [5.89],\n",
       "       [5.89],\n",
       "       [5.89],\n",
       "       [5.89],\n",
       "       [5.86],\n",
       "       [5.81],\n",
       "       [5.78],\n",
       "       [5.76],\n",
       "       [5.74],\n",
       "       [5.72],\n",
       "       [5.7 ],\n",
       "       [5.69],\n",
       "       [5.65],\n",
       "       [5.65],\n",
       "       [5.63],\n",
       "       [5.6 ],\n",
       "       [5.53],\n",
       "       [5.53],\n",
       "       [5.52],\n",
       "       [5.47],\n",
       "       [5.43],\n",
       "       [5.43],\n",
       "       [5.43],\n",
       "       [5.39],\n",
       "       [5.37],\n",
       "       [5.34],\n",
       "       [5.32],\n",
       "       [5.29],\n",
       "       [5.29],\n",
       "       [5.27],\n",
       "       [5.27],\n",
       "       [5.26],\n",
       "       [5.25],\n",
       "       [5.21],\n",
       "       [5.21],\n",
       "       [5.21],\n",
       "       [5.2 ],\n",
       "       [5.19],\n",
       "       [5.19],\n",
       "       [5.18],\n",
       "       [5.08],\n",
       "       [5.04],\n",
       "       [5.01],\n",
       "       [5.  ],\n",
       "       [4.94],\n",
       "       [4.91],\n",
       "       [4.91],\n",
       "       [4.88],\n",
       "       [4.81],\n",
       "       [4.8 ],\n",
       "       [4.8 ],\n",
       "       [4.72],\n",
       "       [4.72],\n",
       "       [4.71],\n",
       "       [4.7 ],\n",
       "       [4.7 ],\n",
       "       [4.68],\n",
       "       [4.67],\n",
       "       [4.64],\n",
       "       [4.63],\n",
       "       [4.59],\n",
       "       [4.56],\n",
       "       [4.55],\n",
       "       [4.53],\n",
       "       [4.52],\n",
       "       [4.52],\n",
       "       [4.51],\n",
       "       [4.49],\n",
       "       [4.47],\n",
       "       [4.46],\n",
       "       [4.46],\n",
       "       [4.44],\n",
       "       [4.42],\n",
       "       [4.39],\n",
       "       [4.37],\n",
       "       [4.37],\n",
       "       [4.36],\n",
       "       [4.35],\n",
       "       [4.33],\n",
       "       [4.29],\n",
       "       [4.21],\n",
       "       [4.19],\n",
       "       [4.17],\n",
       "       [4.11],\n",
       "       [4.09],\n",
       "       [4.02],\n",
       "       [3.98],\n",
       "       [3.97],\n",
       "       [3.93],\n",
       "       [3.8 ],\n",
       "       [3.78],\n",
       "       [3.66],\n",
       "       [3.6 ],\n",
       "       [3.49],\n",
       "       [3.46],\n",
       "       [3.41],\n",
       "       [3.38],\n",
       "       [3.33],\n",
       "       [3.23],\n",
       "       [3.2 ],\n",
       "       [3.08],\n",
       "       [2.85]])"
      ]
     },
     "execution_count": 12,
     "metadata": {},
     "output_type": "execute_result"
    }
   ],
   "source": [
    "y"
   ]
  },
  {
   "cell_type": "code",
   "execution_count": 13,
   "id": "dfd118ab",
   "metadata": {},
   "outputs": [],
   "source": [
    "#Split data into train set and test set\n",
    "\n",
    "X_train, X_test, y_train, y_test = train_test_split(X,y, test_size=0.3, random_state=0)"
   ]
  },
  {
   "cell_type": "markdown",
   "id": "703d716a",
   "metadata": {},
   "source": [
    "# 4. Regression analysis"
   ]
  },
  {
   "cell_type": "code",
   "execution_count": 14,
   "id": "c4af74ac",
   "metadata": {},
   "outputs": [],
   "source": [
    "#Create a regression object\n",
    "\n",
    "regression = LinearRegression()"
   ]
  },
  {
   "cell_type": "code",
   "execution_count": 15,
   "id": "b622ced3",
   "metadata": {},
   "outputs": [
    {
     "data": {
      "text/html": [
       "<style>#sk-container-id-1 {color: black;background-color: white;}#sk-container-id-1 pre{padding: 0;}#sk-container-id-1 div.sk-toggleable {background-color: white;}#sk-container-id-1 label.sk-toggleable__label {cursor: pointer;display: block;width: 100%;margin-bottom: 0;padding: 0.3em;box-sizing: border-box;text-align: center;}#sk-container-id-1 label.sk-toggleable__label-arrow:before {content: \"▸\";float: left;margin-right: 0.25em;color: #696969;}#sk-container-id-1 label.sk-toggleable__label-arrow:hover:before {color: black;}#sk-container-id-1 div.sk-estimator:hover label.sk-toggleable__label-arrow:before {color: black;}#sk-container-id-1 div.sk-toggleable__content {max-height: 0;max-width: 0;overflow: hidden;text-align: left;background-color: #f0f8ff;}#sk-container-id-1 div.sk-toggleable__content pre {margin: 0.2em;color: black;border-radius: 0.25em;background-color: #f0f8ff;}#sk-container-id-1 input.sk-toggleable__control:checked~div.sk-toggleable__content {max-height: 200px;max-width: 100%;overflow: auto;}#sk-container-id-1 input.sk-toggleable__control:checked~label.sk-toggleable__label-arrow:before {content: \"▾\";}#sk-container-id-1 div.sk-estimator input.sk-toggleable__control:checked~label.sk-toggleable__label {background-color: #d4ebff;}#sk-container-id-1 div.sk-label input.sk-toggleable__control:checked~label.sk-toggleable__label {background-color: #d4ebff;}#sk-container-id-1 input.sk-hidden--visually {border: 0;clip: rect(1px 1px 1px 1px);clip: rect(1px, 1px, 1px, 1px);height: 1px;margin: -1px;overflow: hidden;padding: 0;position: absolute;width: 1px;}#sk-container-id-1 div.sk-estimator {font-family: monospace;background-color: #f0f8ff;border: 1px dotted black;border-radius: 0.25em;box-sizing: border-box;margin-bottom: 0.5em;}#sk-container-id-1 div.sk-estimator:hover {background-color: #d4ebff;}#sk-container-id-1 div.sk-parallel-item::after {content: \"\";width: 100%;border-bottom: 1px solid gray;flex-grow: 1;}#sk-container-id-1 div.sk-label:hover label.sk-toggleable__label {background-color: #d4ebff;}#sk-container-id-1 div.sk-serial::before {content: \"\";position: absolute;border-left: 1px solid gray;box-sizing: border-box;top: 0;bottom: 0;left: 50%;z-index: 0;}#sk-container-id-1 div.sk-serial {display: flex;flex-direction: column;align-items: center;background-color: white;padding-right: 0.2em;padding-left: 0.2em;position: relative;}#sk-container-id-1 div.sk-item {position: relative;z-index: 1;}#sk-container-id-1 div.sk-parallel {display: flex;align-items: stretch;justify-content: center;background-color: white;position: relative;}#sk-container-id-1 div.sk-item::before, #sk-container-id-1 div.sk-parallel-item::before {content: \"\";position: absolute;border-left: 1px solid gray;box-sizing: border-box;top: 0;bottom: 0;left: 50%;z-index: -1;}#sk-container-id-1 div.sk-parallel-item {display: flex;flex-direction: column;z-index: 1;position: relative;background-color: white;}#sk-container-id-1 div.sk-parallel-item:first-child::after {align-self: flex-end;width: 50%;}#sk-container-id-1 div.sk-parallel-item:last-child::after {align-self: flex-start;width: 50%;}#sk-container-id-1 div.sk-parallel-item:only-child::after {width: 0;}#sk-container-id-1 div.sk-dashed-wrapped {border: 1px dashed gray;margin: 0 0.4em 0.5em 0.4em;box-sizing: border-box;padding-bottom: 0.4em;background-color: white;}#sk-container-id-1 div.sk-label label {font-family: monospace;font-weight: bold;display: inline-block;line-height: 1.2em;}#sk-container-id-1 div.sk-label-container {text-align: center;}#sk-container-id-1 div.sk-container {/* jupyter's `normalize.less` sets `[hidden] { display: none; }` but bootstrap.min.css set `[hidden] { display: none !important; }` so we also need the `!important` here to be able to override the default hidden behavior on the sphinx rendered scikit-learn.org. See: https://github.com/scikit-learn/scikit-learn/issues/21755 */display: inline-block !important;position: relative;}#sk-container-id-1 div.sk-text-repr-fallback {display: none;}</style><div id=\"sk-container-id-1\" class=\"sk-top-container\"><div class=\"sk-text-repr-fallback\"><pre>LinearRegression()</pre><b>In a Jupyter environment, please rerun this cell to show the HTML representation or trust the notebook. <br />On GitHub, the HTML representation is unable to render, please try loading this page with nbviewer.org.</b></div><div class=\"sk-container\" hidden><div class=\"sk-item\"><div class=\"sk-estimator sk-toggleable\"><input class=\"sk-toggleable__control sk-hidden--visually\" id=\"sk-estimator-id-1\" type=\"checkbox\" checked><label for=\"sk-estimator-id-1\" class=\"sk-toggleable__label sk-toggleable__label-arrow\">LinearRegression</label><div class=\"sk-toggleable__content\"><pre>LinearRegression()</pre></div></div></div></div></div>"
      ],
      "text/plain": [
       "LinearRegression()"
      ]
     },
     "execution_count": 15,
     "metadata": {},
     "output_type": "execute_result"
    }
   ],
   "source": [
    "#Fit the regression to the train set\n",
    "\n",
    "regression.fit(X_train, y_train)"
   ]
  },
  {
   "cell_type": "code",
   "execution_count": 16,
   "id": "6bec38f1",
   "metadata": {},
   "outputs": [],
   "source": [
    "#Predict the values of y using X\n",
    "\n",
    "y_predicted = regression.predict(X_test)"
   ]
  },
  {
   "cell_type": "code",
   "execution_count": 17,
   "id": "897a5c1c",
   "metadata": {
    "scrolled": false
   },
   "outputs": [
    {
     "data": {
      "image/png": "[encoded data removed]",
      "text/plain": [
       "<Figure size 640x480 with 1 Axes>"
      ]
     },
     "metadata": {},
     "output_type": "display_data"
    }
   ],
   "source": [
    "#Create a plot that shows the regression line from the model on the test set\n",
    "\n",
    "plot_test = plt\n",
    "plot_test.scatter(X_test, y_test, color='gray', s = 15)\n",
    "plot_test.plot(X_test, y_predicted, color='red', linewidth =3)\n",
    "plot_test.title('Happiness Score and Economy (Test set)')\n",
    "plot_test.xlabel('Economy (GDP per Capita)')\n",
    "plot_test.ylabel('Happiness Score')\n",
    "plot_test.show()"
   ]
  },
  {
   "cell_type": "markdown",
   "id": "d64b1140",
   "metadata": {},
   "source": [
    "I think the line fits very well in the data plot. It seems to go right through the middle of the data points."
   ]
  },
  {
   "cell_type": "code",
   "execution_count": 18,
   "id": "96391ab4",
   "metadata": {},
   "outputs": [],
   "source": [
    "#Create objects that contain model summary statistics\n",
    "\n",
    "rmse = mean_squared_error(y_test, y_predicted)"
   ]
  },
  {
   "cell_type": "code",
   "execution_count": 19,
   "id": "47aa06a5",
   "metadata": {},
   "outputs": [],
   "source": [
    "r2 = r2_score(y_test, y_predicted)"
   ]
  },
  {
   "cell_type": "code",
   "execution_count": 20,
   "id": "16b094e1",
   "metadata": {},
   "outputs": [
    {
     "name": "stdout",
     "output_type": "stream",
     "text": [
      "Slope:  [[2.28580716]]\n",
      "Mean squared error:  0.51836282039144\n",
      "R2 score:  0.4909896061639515\n"
     ]
    }
   ],
   "source": [
    "#Check accuracy of the model\n",
    "\n",
    "print('Slope: ',regression.coef_)\n",
    "print('Mean squared error: ', rmse)\n",
    "print('R2 score: ', r2)"
   ]
  },
  {
   "cell_type": "code",
   "execution_count": 21,
   "id": "d6ff6cf6",
   "metadata": {},
   "outputs": [],
   "source": [
    "#Create a dataframe comparing the real and the predicted values of y\n",
    "\n",
    "data = pd.DataFrame({'Actual': y_test.flatten(), 'Predicted': y_predicted.flatten()})"
   ]
  },
  {
   "cell_type": "code",
   "execution_count": 22,
   "id": "21817712",
   "metadata": {},
   "outputs": [
    {
     "data": {
      "text/html": [
       "<div>\n",
       "<style scoped>\n",
       "    .dataframe tbody tr th:only-of-type {\n",
       "        vertical-align: middle;\n",
       "    }\n",
       "\n",
       "    .dataframe tbody tr th {\n",
       "        vertical-align: top;\n",
       "    }\n",
       "\n",
       "    .dataframe thead th {\n",
       "        text-align: right;\n",
       "    }\n",
       "</style>\n",
       "<table border=\"1\" class=\"dataframe\">\n",
       "  <thead>\n",
       "    <tr style=\"text-align: right;\">\n",
       "      <th></th>\n",
       "      <th>Actual</th>\n",
       "      <th>Predicted</th>\n",
       "    </tr>\n",
       "  </thead>\n",
       "  <tbody>\n",
       "    <tr>\n",
       "      <th>0</th>\n",
       "      <td>6.44</td>\n",
       "      <td>5.167814</td>\n",
       "    </tr>\n",
       "    <tr>\n",
       "      <th>1</th>\n",
       "      <td>5.89</td>\n",
       "      <td>6.173570</td>\n",
       "    </tr>\n",
       "    <tr>\n",
       "      <th>2</th>\n",
       "      <td>6.20</td>\n",
       "      <td>6.196428</td>\n",
       "    </tr>\n",
       "    <tr>\n",
       "      <th>3</th>\n",
       "      <td>4.64</td>\n",
       "      <td>5.350679</td>\n",
       "    </tr>\n",
       "    <tr>\n",
       "      <th>4</th>\n",
       "      <td>6.45</td>\n",
       "      <td>6.470725</td>\n",
       "    </tr>\n",
       "    <tr>\n",
       "      <th>5</th>\n",
       "      <td>7.31</td>\n",
       "      <td>6.310718</td>\n",
       "    </tr>\n",
       "    <tr>\n",
       "      <th>6</th>\n",
       "      <td>6.10</td>\n",
       "      <td>5.350679</td>\n",
       "    </tr>\n",
       "    <tr>\n",
       "      <th>7</th>\n",
       "      <td>4.71</td>\n",
       "      <td>5.533544</td>\n",
       "    </tr>\n",
       "    <tr>\n",
       "      <th>8</th>\n",
       "      <td>4.11</td>\n",
       "      <td>4.664937</td>\n",
       "    </tr>\n",
       "    <tr>\n",
       "      <th>9</th>\n",
       "      <td>6.17</td>\n",
       "      <td>5.053524</td>\n",
       "    </tr>\n",
       "    <tr>\n",
       "      <th>10</th>\n",
       "      <td>5.20</td>\n",
       "      <td>5.602118</td>\n",
       "    </tr>\n",
       "    <tr>\n",
       "      <th>11</th>\n",
       "      <td>6.01</td>\n",
       "      <td>5.739266</td>\n",
       "    </tr>\n",
       "    <tr>\n",
       "      <th>12</th>\n",
       "      <td>4.70</td>\n",
       "      <td>4.642079</td>\n",
       "    </tr>\n",
       "    <tr>\n",
       "      <th>13</th>\n",
       "      <td>4.52</td>\n",
       "      <td>4.047769</td>\n",
       "    </tr>\n",
       "    <tr>\n",
       "      <th>14</th>\n",
       "      <td>5.89</td>\n",
       "      <td>5.899273</td>\n",
       "    </tr>\n",
       "    <tr>\n",
       "      <th>15</th>\n",
       "      <td>3.49</td>\n",
       "      <td>5.716408</td>\n",
       "    </tr>\n",
       "    <tr>\n",
       "      <th>16</th>\n",
       "      <td>6.26</td>\n",
       "      <td>6.927886</td>\n",
       "    </tr>\n",
       "    <tr>\n",
       "      <th>17</th>\n",
       "      <td>4.52</td>\n",
       "      <td>5.373537</td>\n",
       "    </tr>\n",
       "    <tr>\n",
       "      <th>18</th>\n",
       "      <td>6.11</td>\n",
       "      <td>4.916376</td>\n",
       "    </tr>\n",
       "    <tr>\n",
       "      <th>19</th>\n",
       "      <td>4.37</td>\n",
       "      <td>3.956337</td>\n",
       "    </tr>\n",
       "    <tr>\n",
       "      <th>20</th>\n",
       "      <td>3.66</td>\n",
       "      <td>4.184917</td>\n",
       "    </tr>\n",
       "    <tr>\n",
       "      <th>21</th>\n",
       "      <td>7.28</td>\n",
       "      <td>6.470725</td>\n",
       "    </tr>\n",
       "    <tr>\n",
       "      <th>22</th>\n",
       "      <td>4.02</td>\n",
       "      <td>5.076382</td>\n",
       "    </tr>\n",
       "    <tr>\n",
       "      <th>23</th>\n",
       "      <td>5.81</td>\n",
       "      <td>6.013563</td>\n",
       "    </tr>\n",
       "    <tr>\n",
       "      <th>24</th>\n",
       "      <td>4.67</td>\n",
       "      <td>3.339169</td>\n",
       "    </tr>\n",
       "    <tr>\n",
       "      <th>25</th>\n",
       "      <td>3.23</td>\n",
       "      <td>4.436356</td>\n",
       "    </tr>\n",
       "    <tr>\n",
       "      <th>26</th>\n",
       "      <td>5.26</td>\n",
       "      <td>4.596363</td>\n",
       "    </tr>\n",
       "    <tr>\n",
       "      <th>27</th>\n",
       "      <td>5.74</td>\n",
       "      <td>5.304963</td>\n",
       "    </tr>\n",
       "    <tr>\n",
       "      <th>28</th>\n",
       "      <td>5.27</td>\n",
       "      <td>5.579260</td>\n",
       "    </tr>\n",
       "    <tr>\n",
       "      <th>29</th>\n",
       "      <td>5.08</td>\n",
       "      <td>5.190673</td>\n",
       "    </tr>\n",
       "  </tbody>\n",
       "</table>\n",
       "</div>"
      ],
      "text/plain": [
       "    Actual  Predicted\n",
       "0     6.44   5.167814\n",
       "1     5.89   6.173570\n",
       "2     6.20   6.196428\n",
       "3     4.64   5.350679\n",
       "4     6.45   6.470725\n",
       "5     7.31   6.310718\n",
       "6     6.10   5.350679\n",
       "7     4.71   5.533544\n",
       "8     4.11   4.664937\n",
       "9     6.17   5.053524\n",
       "10    5.20   5.602118\n",
       "11    6.01   5.739266\n",
       "12    4.70   4.642079\n",
       "13    4.52   4.047769\n",
       "14    5.89   5.899273\n",
       "15    3.49   5.716408\n",
       "16    6.26   6.927886\n",
       "17    4.52   5.373537\n",
       "18    6.11   4.916376\n",
       "19    4.37   3.956337\n",
       "20    3.66   4.184917\n",
       "21    7.28   6.470725\n",
       "22    4.02   5.076382\n",
       "23    5.81   6.013563\n",
       "24    4.67   3.339169\n",
       "25    3.23   4.436356\n",
       "26    5.26   4.596363\n",
       "27    5.74   5.304963\n",
       "28    5.27   5.579260\n",
       "29    5.08   5.190673"
      ]
     },
     "execution_count": 22,
     "metadata": {},
     "output_type": "execute_result"
    }
   ],
   "source": [
    "data.head(30)"
   ]
  },
  {
   "cell_type": "markdown",
   "id": "b657886d",
   "metadata": {},
   "source": [
    "I think that overall the model performed well on the test set. When looking at the summary statistics, the slope shows that the variables have a positive relationship with one another. When looking at the MSE, it is relatively small which means that the model should be accurate. The R2 score was pretty much in the middle of 0 and 1 so in that regard it's not really a poor fit or strong fit. Comparing the real and predicted values was interesting. I would say most values were close to one another, but there were a few that had a pretty big difference. When thinking of the hypothesis, I think that this model could prove it is correct but further analysis would have to be conducted to be certain. Although this regression model did well, I don't think it is as accurate as it could be due to some of the variance."
   ]
  }
 ],
 "metadata": {
  "kernelspec": {
   "display_name": "Python 3 (ipykernel)",
   "language": "python",
   "name": "python3"
  },
  "language_info": {
   "codemirror_mode": {
    "name": "ipython",
    "version": 3
   },
   "file_extension": ".py",
   "mimetype": "text/x-python",
   "name": "python",
   "nbconvert_exporter": "python",
   "pygments_lexer": "ipython3",
   "version": "3.10.9"
  }
 },
 "nbformat": 4,
 "nbformat_minor": 5
}
